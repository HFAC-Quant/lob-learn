{
 "cells": [
  {
   "cell_type": "code",
   "execution_count": 1,
   "metadata": {
    "ExecuteTime": {
     "end_time": "2020-04-05T13:26:27.740710Z",
     "start_time": "2020-04-05T13:26:25.979351Z"
    }
   },
   "outputs": [],
   "source": [
    "import numpy as np\n",
    "\n",
    "from data_loaders import *"
   ]
  },
  {
   "cell_type": "markdown",
   "metadata": {},
   "source": [
    "# Instructions on how to load data"
   ]
  },
  {
   "cell_type": "code",
   "execution_count": 10,
   "metadata": {
    "ExecuteTime": {
     "end_time": "2020-04-05T13:23:58.403314Z",
     "start_time": "2020-04-05T13:23:49.598822Z"
    }
   },
   "outputs": [
    {
     "data": {
      "text/plain": [
       "(399990, 200)"
      ]
     },
     "execution_count": 10,
     "metadata": {},
     "output_type": "execute_result"
    }
   ],
   "source": [
    "# How to read one file: careful, this might take a long time\n",
    "# data is by defult QUANTILE scaled so between [0, 1]\n",
    "a = read_scale(SAMPLE_PATH, no_obs=400000, slice_size=10)\n",
    "a.shape"
   ]
  },
  {
   "cell_type": "code",
   "execution_count": 5,
   "metadata": {
    "ExecuteTime": {
     "end_time": "2020-04-05T13:32:00.365672Z",
     "start_time": "2020-04-05T13:31:59.605749Z"
    }
   },
   "outputs": [
    {
     "data": {
      "text/plain": [
       "0         3171.8\n",
       "1         3172.2\n",
       "2         3169.8\n",
       "3         3173.2\n",
       "4         3172.8\n",
       "           ...  \n",
       "399995    2985.0\n",
       "399996    2985.0\n",
       "399997    2985.0\n",
       "399998    2983.8\n",
       "399999    2983.8\n",
       "Name: B1, Length: 400000, dtype: float64"
      ]
     },
     "execution_count": 5,
     "metadata": {},
     "output_type": "execute_result"
    }
   ],
   "source": [
    "# How to read best bid and ask prices quickly\n",
    "buy, sell = read_bid_ask(SAMPLE_PATH, no_obs=400000)\n",
    "buy"
   ]
  },
  {
   "cell_type": "code",
   "execution_count": 3,
   "metadata": {
    "ExecuteTime": {
     "end_time": "2020-04-05T13:26:48.759807Z",
     "start_time": "2020-04-05T13:26:46.309236Z"
    }
   },
   "outputs": [
    {
     "name": "stdout",
     "output_type": "stream",
     "text": [
      "[[0.85835836 0.85835836 0.86036036 ... 0.21471471 0.32832833 0.33533534]\n",
      " [0.88338338 0.88638639 0.88788789 ... 0.         0.         0.91841842]\n",
      " [0.91741742 0.90690691 0.90840841 ... 0.         0.         0.        ]\n",
      " ...\n",
      " [0.50650651 0.50800801 0.50800801 ... 0.75425425 0.9964965  0.        ]\n",
      " [0.50650651 0.50800801 0.50800801 ... 0.79129129 0.75975976 0.996997  ]\n",
      " [0.50650651 0.50800801 0.50800801 ... 0.79129129 0.78078078 0.996997  ]]\n",
      "[[0.84684685 0.91321403 0.98307532 ... 0.         0.         0.8973974 ]\n",
      " [0.98748749 0.99899544 0.99099099 ... 0.         0.         0.8973974 ]\n",
      " [0.98748749 0.99899544 0.99099099 ... 0.         0.         0.        ]\n",
      " ...\n",
      " [0.5955956  0.48248248 0.58408408 ... 0.         0.         0.        ]\n",
      " [0.5955956  0.48248248 0.58408408 ... 0.         0.         0.        ]\n",
      " [0.5955956  0.48248248 0.58408408 ... 0.82432432 0.         0.        ]]\n"
     ]
    }
   ],
   "source": [
    "# How to iterate over all datafiles available\n",
    "#  the generator loops over all csv files in data/order_books\n",
    "for a in generate_data(read_scale, no_obs=2000, slice_size=10):\n",
    "    print(a)\n",
    "    # Do anything you want with a, like train the model"
   ]
  },
  {
   "cell_type": "markdown",
   "metadata": {},
   "source": [
    "# Sample model"
   ]
  },
  {
   "cell_type": "code",
   "execution_count": 13,
   "metadata": {
    "ExecuteTime": {
     "end_time": "2020-04-05T13:33:59.586985Z",
     "start_time": "2020-04-05T13:33:50.590582Z"
    },
    "scrolled": true
   },
   "outputs": [],
   "source": [
    "# Let's fit a basic NN that tries to predict the best bid price\n",
    "#  10 minutes in the future. Train it on first half of the SAMPLE_PATH file.\n",
    "#  Report test performance on a different file.\n",
    "\n",
    "offset = 120 # 10 minutes roughly\n",
    "data_size = 200000 # size of train/test set\n",
    "slice_size = 10\n",
    "\n",
    "X = read_scale(SAMPLE_PATH, no_obs=2*data_size, slice_size=slice_size)\n",
    "y = read_bid_ask(SAMPLE_PATH, no_obs=2*data_size+offset-slice_size)[1][offset:]\n",
    "\n",
    "X_tr, X_ts = X[:data_size], X[data_size:]\n",
    "y_tr, y_ts = y[:data_size], y[data_size:]"
   ]
  },
  {
   "cell_type": "code",
   "execution_count": 20,
   "metadata": {
    "ExecuteTime": {
     "end_time": "2020-04-05T13:37:16.752829Z",
     "start_time": "2020-04-05T13:36:54.550139Z"
    }
   },
   "outputs": [
    {
     "name": "stderr",
     "output_type": "stream",
     "text": [
      "/Users/fabiopruneri/Documents/anaconda3/lib/python3.7/site-packages/sklearn/neural_network/multilayer_perceptron.py:566: ConvergenceWarning: Stochastic Optimizer: Maximum iterations (10) reached and the optimization hasn't converged yet.\n",
      "  % self.max_iter, ConvergenceWarning)\n"
     ]
    },
    {
     "data": {
      "text/plain": [
       "MLPRegressor(activation='relu', alpha=0.0001, batch_size='auto', beta_1=0.9,\n",
       "             beta_2=0.999, early_stopping=False, epsilon=1e-08,\n",
       "             hidden_layer_sizes=(100, 100, 100), learning_rate='constant',\n",
       "             learning_rate_init=0.001, max_iter=10, momentum=0.9,\n",
       "             n_iter_no_change=10, nesterovs_momentum=True, power_t=0.5,\n",
       "             random_state=None, shuffle=True, solver='adam', tol=0.0001,\n",
       "             validation_fraction=0.1, verbose=False, warm_start=False)"
      ]
     },
     "execution_count": 20,
     "metadata": {},
     "output_type": "execute_result"
    }
   ],
   "source": [
    "# Training model. Takes 20s on my laptop. Ignore the ConvergenceWarning (need mroe data)\n",
    "\n",
    "from sklearn.neural_network import MLPRegressor\n",
    "\n",
    "nn = MLPRegressor(hidden_layer_sizes=(100, 100, 100,), max_iter=10)\n",
    "nn.fit(X_tr, y_tr)"
   ]
  },
  {
   "cell_type": "code",
   "execution_count": 21,
   "metadata": {
    "ExecuteTime": {
     "end_time": "2020-04-05T13:37:17.486158Z",
     "start_time": "2020-04-05T13:37:16.754809Z"
    }
   },
   "outputs": [
    {
     "data": {
      "text/plain": [
       "0.8800552784956912"
      ]
     },
     "execution_count": 21,
     "metadata": {},
     "output_type": "execute_result"
    }
   ],
   "source": [
    "nn.score(X_tr, y_tr) # This is the R^2\n",
    "# As expected, performs very well on training data (massive overfitting)"
   ]
  },
  {
   "cell_type": "code",
   "execution_count": 23,
   "metadata": {
    "ExecuteTime": {
     "end_time": "2020-04-05T13:37:37.548846Z",
     "start_time": "2020-04-05T13:37:36.827640Z"
    }
   },
   "outputs": [
    {
     "data": {
      "text/plain": [
       "-0.8562876471564211"
      ]
     },
     "execution_count": 23,
     "metadata": {},
     "output_type": "execute_result"
    }
   ],
   "source": [
    "nn.score(X_ts, y_ts)\n",
    "# And terribly on test data"
   ]
  },
  {
   "cell_type": "code",
   "execution_count": null,
   "metadata": {},
   "outputs": [],
   "source": []
  }
 ],
 "metadata": {
  "kernelspec": {
   "display_name": "Python 3",
   "language": "python",
   "name": "python3"
  },
  "language_info": {
   "codemirror_mode": {
    "name": "ipython",
    "version": 3
   },
   "file_extension": ".py",
   "mimetype": "text/x-python",
   "name": "python",
   "nbconvert_exporter": "python",
   "pygments_lexer": "ipython3",
   "version": "3.7.4"
  },
  "latex_envs": {
   "LaTeX_envs_menu_present": true,
   "autoclose": true,
   "autocomplete": true,
   "bibliofile": "biblio.bib",
   "cite_by": "apalike",
   "current_citInitial": 1,
   "eqLabelWithNumbers": true,
   "eqNumInitial": 1,
   "hotkeys": {
    "equation": "Ctrl-E",
    "itemize": "Ctrl-I"
   },
   "labels_anchors": false,
   "latex_user_defs": false,
   "report_style_numbering": false,
   "user_envs_cfg": false
  },
  "nbTranslate": {
   "displayLangs": [
    "*"
   ],
   "hotkey": "alt-t",
   "langInMainMenu": true,
   "sourceLang": "en",
   "targetLang": "fr",
   "useGoogleTranslate": true
  }
 },
 "nbformat": 4,
 "nbformat_minor": 2
}
