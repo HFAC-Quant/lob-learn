{
 "cells": [
  {
   "cell_type": "code",
   "execution_count": 1,
   "metadata": {
    "ExecuteTime": {
     "end_time": "2020-04-05T14:23:44.042926Z",
     "start_time": "2020-04-05T14:23:42.275616Z"
    }
   },
   "outputs": [],
   "source": [
    "import numpy as np\n",
    "\n",
    "from data_loaders import *"
   ]
  },
  {
   "cell_type": "code",
   "execution_count": 2,
   "metadata": {
    "ExecuteTime": {
     "end_time": "2020-04-05T14:23:44.046473Z",
     "start_time": "2020-04-05T14:23:44.044586Z"
    }
   },
   "outputs": [],
   "source": [
    "# In this notebook we will try to use a NN model using Keras\n",
    "# that chooses at what point in the next 10 minutes to buy\n",
    "# one unit of the stock.\n",
    "\n",
    "# The model receives as an input the bid/ask prices/volumes\n",
    "# for the last 50 instants in time, and has to output at\n",
    "# which of the next 120 points it wants to buy. It then\n",
    "# receives a loss equal to the price it costs to buy at that time."
   ]
  },
  {
   "cell_type": "markdown",
   "metadata": {},
   "source": [
    "# Data reading-- you do not need to understand this"
   ]
  },
  {
   "cell_type": "code",
   "execution_count": 3,
   "metadata": {
    "ExecuteTime": {
     "end_time": "2020-04-05T14:24:22.609311Z",
     "start_time": "2020-04-05T14:23:44.048550Z"
    }
   },
   "outputs": [],
   "source": [
    "offset = 120 # 10 minutes roughly\n",
    "data_size = 400000 # size of train+test set\n",
    "slice_size = 50\n",
    "\n",
    "X = read_scale(SAMPLE_PATH, no_obs=data_size, slice_size=slice_size)"
   ]
  },
  {
   "cell_type": "code",
   "execution_count": 4,
   "metadata": {
    "ExecuteTime": {
     "end_time": "2020-04-05T14:24:24.158111Z",
     "start_time": "2020-04-05T14:24:22.611301Z"
    }
   },
   "outputs": [],
   "source": [
    "_, sell = read_bid_ask(SAMPLE_PATH, no_obs=data_size+offset)\n",
    "y = np.hstack([sell.shift(x).values.reshape(-1, 1) \n",
    "               for x in range(offset)])\n",
    "# Remove the first corrupted rows\n",
    "y = y[offset+slice_size:].copy()"
   ]
  },
  {
   "cell_type": "code",
   "execution_count": 5,
   "metadata": {
    "ExecuteTime": {
     "end_time": "2020-04-05T14:24:24.167836Z",
     "start_time": "2020-04-05T14:24:24.159936Z"
    }
   },
   "outputs": [
    {
     "data": {
      "text/plain": [
       "((399950, 1000), (399950, 120))"
      ]
     },
     "execution_count": 5,
     "metadata": {},
     "output_type": "execute_result"
    }
   ],
   "source": [
    "# CHECK YOU UNDERSTAND WHY THE SHAPES ARE THE WAY THEY ARE\n",
    "X.shape, y.shape"
   ]
  },
  {
   "cell_type": "code",
   "execution_count": 6,
   "metadata": {
    "ExecuteTime": {
     "end_time": "2020-04-05T14:24:24.173032Z",
     "start_time": "2020-04-05T14:24:24.169886Z"
    }
   },
   "outputs": [],
   "source": [
    "X_tr, X_ts = X[:int(0.8*data_size)], X[int(0.8*data_size):]\n",
    "y_tr, y_ts = y[:int(0.8*data_size)], y[int(0.8*data_size):]"
   ]
  },
  {
   "cell_type": "markdown",
   "metadata": {},
   "source": [
    "# Defining custom loss and keras model"
   ]
  },
  {
   "cell_type": "code",
   "execution_count": 7,
   "metadata": {
    "ExecuteTime": {
     "end_time": "2020-04-05T14:24:26.529802Z",
     "start_time": "2020-04-05T14:24:24.174914Z"
    }
   },
   "outputs": [],
   "source": [
    "import tensorflow as tf\n",
    "import tensorflow.keras.backend as K"
   ]
  },
  {
   "cell_type": "code",
   "execution_count": 21,
   "metadata": {
    "ExecuteTime": {
     "end_time": "2020-04-05T14:35:06.225817Z",
     "start_time": "2020-04-05T14:35:06.220595Z"
    }
   },
   "outputs": [],
   "source": [
    "# As a loss, take the dot product between the probability vector of selling\n",
    "# at that time with price at that time\n",
    "def my_loss(y_true, y_pred):\n",
    "    return K.mean(\n",
    "            -K.dot(y_true, K.transpose(y_pred))\n",
    "    )"
   ]
  },
  {
   "cell_type": "code",
   "execution_count": 22,
   "metadata": {
    "ExecuteTime": {
     "end_time": "2020-04-05T14:35:08.539511Z",
     "start_time": "2020-04-05T14:35:08.429823Z"
    }
   },
   "outputs": [],
   "source": [
    "from tensorflow.keras.models import Sequential\n",
    "from tensorflow.keras.layers import Dense, Activation\n",
    "\n",
    "model = Sequential()\n",
    "model.add(Dense(128, input_shape=(slice_size*20,))) #1000\n",
    "model.add(Activation('relu'))\n",
    "model.add(Dense(128))\n",
    "model.add(Activation('relu'))\n",
    "model.add(Dense(offset)) #output shape: 120\n",
    "model.add(Activation('softmax')) #squish output into a probability vector"
   ]
  },
  {
   "cell_type": "code",
   "execution_count": 23,
   "metadata": {
    "ExecuteTime": {
     "end_time": "2020-04-05T14:35:08.720259Z",
     "start_time": "2020-04-05T14:35:08.715694Z"
    }
   },
   "outputs": [
    {
     "name": "stdout",
     "output_type": "stream",
     "text": [
      "Model: \"sequential_1\"\n",
      "_________________________________________________________________\n",
      "Layer (type)                 Output Shape              Param #   \n",
      "=================================================================\n",
      "dense_3 (Dense)              (None, 128)               128128    \n",
      "_________________________________________________________________\n",
      "activation_3 (Activation)    (None, 128)               0         \n",
      "_________________________________________________________________\n",
      "dense_4 (Dense)              (None, 128)               16512     \n",
      "_________________________________________________________________\n",
      "activation_4 (Activation)    (None, 128)               0         \n",
      "_________________________________________________________________\n",
      "dense_5 (Dense)              (None, 120)               15480     \n",
      "_________________________________________________________________\n",
      "activation_5 (Activation)    (None, 120)               0         \n",
      "=================================================================\n",
      "Total params: 160,120\n",
      "Trainable params: 160,120\n",
      "Non-trainable params: 0\n",
      "_________________________________________________________________\n"
     ]
    }
   ],
   "source": [
    "model.summary()"
   ]
  },
  {
   "cell_type": "code",
   "execution_count": 24,
   "metadata": {
    "ExecuteTime": {
     "end_time": "2020-04-05T14:35:09.330738Z",
     "start_time": "2020-04-05T14:35:09.312675Z"
    }
   },
   "outputs": [],
   "source": [
    "model.compile(loss=my_loss,\n",
    "              optimizer='sgd')"
   ]
  },
  {
   "cell_type": "markdown",
   "metadata": {},
   "source": [
    "# Training"
   ]
  },
  {
   "cell_type": "code",
   "execution_count": 25,
   "metadata": {
    "ExecuteTime": {
     "end_time": "2020-04-05T14:38:24.626081Z",
     "start_time": "2020-04-05T14:35:10.109134Z"
    }
   },
   "outputs": [
    {
     "name": "stdout",
     "output_type": "stream",
     "text": [
      "Train on 320000 samples\n",
      "Epoch 1/3\n",
      "320000/320000 [==============================] - 56s 176us/sample - loss: -3147.4327\n",
      "Epoch 2/3\n",
      "320000/320000 [==============================] - 64s 201us/sample - loss: -3147.4357\n",
      "Epoch 3/3\n",
      "320000/320000 [==============================] - 63s 197us/sample - loss: -3147.4357\n"
     ]
    }
   ],
   "source": [
    "# Training takes a while without GPU, 4 mins on my laptop\n",
    "# It actually converges in just one epoch with this small batch size\n",
    "hs = model.fit(X_tr, y_tr, epochs=3, batch_size=16, verbose=1)"
   ]
  },
  {
   "cell_type": "code",
   "execution_count": 26,
   "metadata": {
    "ExecuteTime": {
     "end_time": "2020-04-05T14:38:29.050806Z",
     "start_time": "2020-04-05T14:38:24.629206Z"
    }
   },
   "outputs": [],
   "source": [
    "# Let's check how it performs on the train and test sets\n",
    "y_tr_pred = model.predict(X_tr[:20000])\n",
    "y_ts_pred = model.predict(X_ts[:20000])"
   ]
  },
  {
   "cell_type": "code",
   "execution_count": 27,
   "metadata": {
    "ExecuteTime": {
     "end_time": "2020-04-05T14:38:32.768004Z",
     "start_time": "2020-04-05T14:38:29.054702Z"
    }
   },
   "outputs": [
    {
     "data": {
      "text/plain": [
       "3181.599906042315"
      ]
     },
     "execution_count": 27,
     "metadata": {},
     "output_type": "execute_result"
    }
   ],
   "source": [
    "# On the train set we spend an average of\n",
    "np.dot(y_tr_pred, y_tr[:20000].T).mean()"
   ]
  },
  {
   "cell_type": "code",
   "execution_count": 28,
   "metadata": {
    "ExecuteTime": {
     "end_time": "2020-04-05T14:38:32.776444Z",
     "start_time": "2020-04-05T14:38:32.770037Z"
    }
   },
   "outputs": [
    {
     "data": {
      "text/plain": [
       "3181.678803583334"
      ]
     },
     "execution_count": 28,
     "metadata": {},
     "output_type": "execute_result"
    }
   ],
   "source": [
    "# Versus an overall mean price of\n",
    "y_tr[:20000].mean().mean()"
   ]
  },
  {
   "cell_type": "code",
   "execution_count": null,
   "metadata": {},
   "outputs": [],
   "source": [
    "# Which is slighly lower!"
   ]
  }
 ],
 "metadata": {
  "kernelspec": {
   "display_name": "Python 3",
   "language": "python",
   "name": "python3"
  },
  "language_info": {
   "codemirror_mode": {
    "name": "ipython",
    "version": 3
   },
   "file_extension": ".py",
   "mimetype": "text/x-python",
   "name": "python",
   "nbconvert_exporter": "python",
   "pygments_lexer": "ipython3",
   "version": "3.7.4"
  },
  "latex_envs": {
   "LaTeX_envs_menu_present": true,
   "autoclose": true,
   "autocomplete": true,
   "bibliofile": "biblio.bib",
   "cite_by": "apalike",
   "current_citInitial": 1,
   "eqLabelWithNumbers": true,
   "eqNumInitial": 1,
   "hotkeys": {
    "equation": "Ctrl-E",
    "itemize": "Ctrl-I"
   },
   "labels_anchors": false,
   "latex_user_defs": false,
   "report_style_numbering": false,
   "user_envs_cfg": false
  },
  "nbTranslate": {
   "displayLangs": [
    "*"
   ],
   "hotkey": "alt-t",
   "langInMainMenu": true,
   "sourceLang": "en",
   "targetLang": "fr",
   "useGoogleTranslate": true
  }
 },
 "nbformat": 4,
 "nbformat_minor": 2
}
